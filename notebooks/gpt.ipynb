{
 "cells": [
  {
   "cell_type": "code",
   "execution_count": 1,
   "metadata": {},
   "outputs": [],
   "source": [
    "# [v] Soal\n",
    "# Gambar -> GPT4 -> Text (soal)\n",
    "# Text (soal) -> speech\n",
    "\n",
    "# [v] Penyandang\n",
    "# Speech -> text (jawaban)\n",
    "\n",
    "# Auto graded AI\n",
    "# Text (soal) v.stext (jawaban)\n",
    "\n",
    "\n",
    "# Kamu adalah seorang guru di sekolah luar biasa (SLB). Saat ini kamu sedang mengadakan ujian. Peserta didik memiliki keterbatasan penglihatan (tuna netra). Oleh karena itu, kamu harus menjelaskan soal ujian berikut ini dalam bentuk narasi."
   ]
  },
  {
   "cell_type": "code",
   "execution_count": 22,
   "metadata": {},
   "outputs": [],
   "source": [
    "import os\n",
    "import base64\n",
    "import requests\n",
    "\n",
    "from dotenv import load_dotenv\n",
    "\n",
    "load_dotenv('../.env')\n",
    "\n",
    "AZURE_OPENAI_API_KEY = os.getenv('AZURE_OPENAI_API_KEY')\n",
    "AZURE_OPENAI_ENDPOINT = os.getenv('AZURE_OPENAI_ENDPOINT')"
   ]
  },
  {
   "cell_type": "markdown",
   "metadata": {},
   "source": [
    "# Image to Text"
   ]
  },
  {
   "cell_type": "code",
   "execution_count": 15,
   "metadata": {},
   "outputs": [],
   "source": [
    "def explain(encoded_image):\n",
    "  headers = {\n",
    "      \"Content-Type\": \"application/json\",\n",
    "      \"api-key\": AZURE_OPENAI_API_KEY,\n",
    "  }\n",
    "\n",
    "  # Payload for the request\n",
    "  payload = {\n",
    "    \"messages\": [\n",
    "      {\n",
    "        \"role\": \"system\",\n",
    "        \"content\": [\n",
    "          {\n",
    "            \"type\": \"text\",\n",
    "            \"text\": \"Kamu adalah seorang guru di sekolah luar biasa (SLB). Saat ini kamu sedang mengadakan ujian. Peserta didik memiliki keterbatasan penglihatan (tuna netra). Oleh karena itu, kamu harus menjelaskan soal ujian berikut ini dalam bentuk narasi.\\n\\nIngat, hanya sampaikan soal ujian nya saja, tidak perlu di jawab.\"\n",
    "          }\n",
    "        ]\n",
    "      },\n",
    "      {\n",
    "        \"role\": \"user\",\n",
    "        \"content\": [\n",
    "          {\n",
    "            \"type\": \"image_url\",\n",
    "            \"image_url\": {\n",
    "              \"url\": f\"data:image/jpeg;base64,{encoded_image}\"\n",
    "            }\n",
    "          }\n",
    "        ]\n",
    "      },\n",
    "    ],\n",
    "    \"temperature\": 0.5,\n",
    "    \"top_p\": 0.95,\n",
    "    \"max_tokens\": 800\n",
    "  }\n",
    "\n",
    "  # Send request\n",
    "  try:\n",
    "      GPT4V_ENDPOINT = f\"{AZURE_OPENAI_ENDPOINT}/openai/deployments/gpt-4o/chat/completions?api-version=2024-02-15-preview\"\n",
    "      response = requests.post(GPT4V_ENDPOINT, headers=headers, json=payload)\n",
    "      response.raise_for_status()  # Will raise an HTTPError if the HTTP request returned an unsuccessful status code\n",
    "  \n",
    "  except requests.RequestException as e:\n",
    "      raise SystemExit(f\"Failed to make the request. Error: {e}\")\n",
    "\n",
    "  res = response.json()\n",
    "  return res['choices'][0]['message']['content']"
   ]
  },
  {
   "cell_type": "code",
   "execution_count": 10,
   "metadata": {},
   "outputs": [],
   "source": [
    "# Configuration\n",
    "IMAGE_PATH = \"../images/soal-ujian/matematika-01.jpeg\"\n",
    "encoded_image = base64.b64encode(open(IMAGE_PATH, 'rb').read()).decode('ascii')"
   ]
  },
  {
   "cell_type": "code",
   "execution_count": 20,
   "metadata": {},
   "outputs": [
    {
     "data": {
      "text/plain": [
       "'Soal nomor 6. Diketahui persegi panjang pada gambar di bawah ini.\\n\\nGambar menunjukkan sebuah persegi panjang dengan sisi-sisi yang ditandai sebagai berikut: sisi AB dan sisi CD masing-masing memiliki panjang 24 cm, sedangkan sisi AC dan sisi BD masing-masing memiliki panjang 7 cm.\\n\\nPertanyaan: Hitunglah keliling bangun tersebut.\\n\\nPilihan jawaban:\\na. 72 cm\\nb. 62 cm\\nc. 52 cm\\nd. 82 cm\\ne. 42 cm'"
      ]
     },
     "execution_count": 20,
     "metadata": {},
     "output_type": "execute_result"
    }
   ],
   "source": [
    "explanation = explain(encoded_image)\n",
    "explanation"
   ]
  },
  {
   "cell_type": "code",
   "execution_count": 25,
   "metadata": {},
   "outputs": [
    {
     "name": "stdout",
     "output_type": "stream",
     "text": [
      "Soal nomor 6. Diketahui persegi panjang pada gambar di bawah ini.\n",
      "\n",
      "Gambar menunjukkan sebuah persegi panjang dengan sisi-sisi yang ditandai sebagai berikut: sisi AB dan sisi CD masing-masing memiliki panjang 24 cm, sedangkan sisi AC dan sisi BD masing-masing memiliki panjang 7 cm.\n",
      "\n",
      "Pertanyaan: Hitunglah keliling bangun tersebut.\n",
      "\n",
      "Pilihan jawaban:\n",
      "a. 72 cm\n",
      "b. 62 cm\n",
      "c. 52 cm\n",
      "d. 82 cm\n",
      "e. 42 cm\n"
     ]
    }
   ],
   "source": [
    "print(explanation)"
   ]
  },
  {
   "cell_type": "markdown",
   "metadata": {},
   "source": [
    "# Text to Speech"
   ]
  },
  {
   "cell_type": "code",
   "execution_count": 19,
   "metadata": {},
   "outputs": [],
   "source": [
    "import os\n",
    "import time\n",
    "\n",
    "from azure.ai.textanalytics import TextAnalyticsClient\n",
    "from azure.core.credentials import AzureKeyCredential\n",
    "import azure.cognitiveservices.speech as speechsdk"
   ]
  },
  {
   "cell_type": "code",
   "execution_count": 23,
   "metadata": {},
   "outputs": [],
   "source": [
    "language_key = os.environ.get('LANGUAGE_KEY')\n",
    "language_endpoint = os.environ.get('LANGUAGE_ENDPOINT')\n",
    "\n",
    "speech_key = \"232d072838de4797908c738708459c41\"\n",
    "service_region = \"southeastasia\"\n",
    "timestr = time.strftime(\"%Y%m%d-%H%M%S\")\n",
    "audio_path = f\"outputs-speech-{timestr}.wav\"\n",
    "speech_config = speechsdk.SpeechConfig(subscription=speech_key, region=service_region)\n",
    "\n",
    "if not language_key or not language_endpoint:\n",
    "    raise ValueError(\"Please set the LANGUAGE_KEY and LANGUAGE_ENDPOINT environment variables.\")\n",
    "\n",
    "# Fungsi untuk membaca isi file teks dan mengembalikannya sebagai string\n",
    "def txt_to_string(file_path):\n",
    "    with open(file_path, 'r', encoding='utf-8') as file:\n",
    "        text = file.read()\n",
    "    return text\n",
    "\n",
    "# Path ke file teks\n",
    "file_path = \"./test2.png.txt\"\n",
    "\n",
    "# Membaca isi file teks\n",
    "# text = txt_to_string(file_path)\n",
    "text = explanation\n",
    "\n",
    "# Authenticate the client using your key and endpoint\n",
    "def authenticate_client():\n",
    "    ta_credential = AzureKeyCredential(language_key)\n",
    "    text_analytics_client = TextAnalyticsClient(\n",
    "            endpoint=language_endpoint,\n",
    "            credential=ta_credential)\n",
    "    return text_analytics_client\n",
    "\n",
    "client = authenticate_client()\n",
    "\n",
    "# Example method for detecting the language of text\n",
    "def language_detection(client, text):\n",
    "    try:\n",
    "        # Memanggil metode detect_language dengan teks sebagai list of documents\n",
    "        response = client.detect_language(documents=[text], country_hint='us')[0]\n",
    "        return response.primary_language.iso6391_name\n",
    "\n",
    "    except Exception as err:\n",
    "        print(\"Encountered exception. {}\".format(err))\n",
    "    return response.primary_language.iso6391_name\n",
    "detected_language = language_detection(client,text)\n",
    "\n",
    "# Choose voice based on detected language\n",
    "voice_map = {\n",
    "    'id': 'id-ID-GadisNeural',       # Bahasa Indonesia\n",
    "    'en': 'en-US-GuyNeural',         # Bahasa Inggris (AS)\n",
    "    'es': 'es-MX-JorgeNeural',       # Bahasa Spanyol (Meksiko)\n",
    "    'fr': 'fr-FR-DeniseNeural',      # Bahasa Prancis (Prancis)\n",
    "    'de': 'de-DE-ConradNeural',      # Bahasa Jerman (Jerman)\n",
    "    'ar': 'ar-SA-HamedNeural',       # Bahasa Arab (Arab Saudi)\n",
    "    'zh_chs': 'zh-CN-XiaoxiaoNeural',    # Bahasa Mandarin (China)\n",
    "    'ja': 'ja-JP-NanamiNeural',      # Bahasa Jepang\n",
    "    'pt': 'pt-BR-FranciscaNeural',   # Bahasa Portugis (Brasil)\n",
    "    'ru': 'ru-RU-SvetlanaNeural',    # Bahasa Rusia\n",
    "    'nl': 'nl-NL-ColetteNeural',     # Bahasa Belanda\n",
    "    'ko': 'ko-KR-SunHiNeural',       # Bahasa Korea\n",
    "    'tr': 'tr-TR-EmelNeural',        # Bahasa Turki\n",
    "    'sv': 'sv-SE-HilleviNeural',     # Bahasa Swedia\n",
    "    'pl': 'pl-PL-ZofiaNeural',       # Bahasa Polandia\n",
    "    'cs': 'cs-CZ-VlastaNeural',      # Bahasa Ceska (Ceko)\n",
    "    'hu': 'hu-HU-NoemiNeural',       # Bahasa Hungaria\n",
    "    'ro': 'ro-RO-EmilNeural',        # Bahasa Rumania\n",
    "    'sk': 'sk-SK-LukasNeural',       # Bahasa Slovak\n",
    "    'bg': 'bg-BG-BorislavNeural',    # Bahasa Bulgaria\n",
    "    'hr': 'hr-HR-GabrijelaNeural',   # Bahasa Kroasia\n",
    "    'lv': 'lv-LV-NilsNeural',        # Bahasa Latvia\n",
    "    'it':'it-IT-ElsaNeural',         # Bahasa Italia\n",
    "    'vi':'vi-VN-HoaiMyNeural'        # Bahsa Vietnam\n",
    "            }\n",
    "    # Add more languages and voices as needed\n",
    "\n",
    "# Fallback to a default voice if language is not in the map\n",
    "voice = voice_map.get(detected_language)\n",
    "# Note: the voice setting will not overwrite the voice element in input SSML.\n",
    "speech_config.speech_synthesis_voice_name = voice\n",
    "audio_config = speechsdk.audio.AudioOutputConfig(filename=audio_path)\n",
    "# use the default speaker as audio output.\n",
    "speech_synthesizer = speechsdk.SpeechSynthesizer(speech_config=speech_config, audio_config=audio_config)\n",
    "result = speech_synthesizer.speak_text_async(text).get()"
   ]
  },
  {
   "cell_type": "code",
   "execution_count": null,
   "metadata": {},
   "outputs": [],
   "source": [
    "speech_key = \"232d072838de4797908c738708459c41\"\n",
    "service_region = \"southeastasia\"\n",
    "timestr = time.strftime(\"%Y%m%d-%H%M%S\")\n",
    "audio_path = f\"./../Audio/outputs-speech-{timestr}.wav\"\n",
    "speech_config = speechsdk.SpeechConfig(subscription=speech_key, region=service_region)\n"
   ]
  },
  {
   "cell_type": "code",
   "execution_count": 24,
   "metadata": {},
   "outputs": [
    {
     "data": {
      "text/plain": [
       "<azure.cognitiveservices.speech.SpeechSynthesisResult at 0x1072c9d60>"
      ]
     },
     "execution_count": 24,
     "metadata": {},
     "output_type": "execute_result"
    },
    {
     "name": "stdout",
     "output_type": "stream",
     "text": [
      "Info: on_underlying_io_bytes_received: Close frame received\n",
      "Info: on_underlying_io_bytes_received: received close frame, sending a close response frame.\n",
      "Info: on_underlying_io_close_sent: uws_client=0x115f85c10, io_send_result:0\n",
      "Info: on_underlying_io_close_sent: closing underlying io.\n",
      "Info: on_underlying_io_close_complete: uws_state: 6.\n"
     ]
    }
   ],
   "source": [
    "result"
   ]
  },
  {
   "cell_type": "markdown",
   "metadata": {},
   "source": [
    "# Speech to Text"
   ]
  },
  {
   "cell_type": "code",
   "execution_count": 26,
   "metadata": {},
   "outputs": [],
   "source": [
    "speech_config = speechsdk.SpeechConfig(subscription=speech_key, region=service_region)\n",
    "speech_recognizer = speechsdk.SpeechRecognizer(speech_config=speech_config)"
   ]
  },
  {
   "cell_type": "code",
   "execution_count": 31,
   "metadata": {},
   "outputs": [
    {
     "name": "stdout",
     "output_type": "stream",
     "text": [
      "Info: on_underlying_io_bytes_received: Close frame received\n",
      "Info: on_underlying_io_bytes_received: closing underlying io.\n",
      "Info: on_underlying_io_close_complete: uws_state: 6.\n",
      "Jawabannya adalah 62cm.\n"
     ]
    }
   ],
   "source": [
    "import azure.cognitiveservices.speech as speechsdk\n",
    "\n",
    "speech_config = speechsdk.SpeechConfig(subscription=speech_key, region=service_region)\n",
    "source_language_config = speechsdk.languageconfig.SourceLanguageConfig(\"id-ID\")  \n",
    "audio_config = speechsdk.audio.AudioConfig(filename='../audios/jawaban.wav')\n",
    "\n",
    "\n",
    "speech_recognizer = speechsdk.SpeechRecognizer(  \n",
    "    speech_config=speech_config, \n",
    "    source_language_config=source_language_config, \n",
    "    audio_config=audio_config\n",
    ")\n",
    "\n",
    "result = speech_recognizer.recognize_once()\n",
    "\n",
    "print(result.text)"
   ]
  },
  {
   "cell_type": "code",
   "execution_count": 33,
   "metadata": {},
   "outputs": [
    {
     "data": {
      "text/plain": [
       "'Jawabannya adalah 62cm.'"
      ]
     },
     "execution_count": 33,
     "metadata": {},
     "output_type": "execute_result"
    }
   ],
   "source": [
    "answer = result.text\n",
    "answer"
   ]
  },
  {
   "cell_type": "markdown",
   "metadata": {},
   "source": [
    "# Auto Graded"
   ]
  },
  {
   "cell_type": "code",
   "execution_count": 32,
   "metadata": {},
   "outputs": [
    {
     "data": {
      "text/plain": [
       "'Soal nomor 6. Diketahui persegi panjang pada gambar di bawah ini.\\n\\nGambar menunjukkan sebuah persegi panjang dengan sisi-sisi yang ditandai sebagai berikut: sisi AB dan sisi CD masing-masing memiliki panjang 24 cm, sedangkan sisi AC dan sisi BD masing-masing memiliki panjang 7 cm.\\n\\nPertanyaan: Hitunglah keliling bangun tersebut.\\n\\nPilihan jawaban:\\na. 72 cm\\nb. 62 cm\\nc. 52 cm\\nd. 82 cm\\ne. 42 cm'"
      ]
     },
     "execution_count": 32,
     "metadata": {},
     "output_type": "execute_result"
    }
   ],
   "source": [
    "explanation"
   ]
  },
  {
   "cell_type": "code",
   "execution_count": 34,
   "metadata": {},
   "outputs": [
    {
     "data": {
      "text/plain": [
       "'Jawabannya adalah 62cm.'"
      ]
     },
     "execution_count": 34,
     "metadata": {},
     "output_type": "execute_result"
    }
   ],
   "source": [
    "answer"
   ]
  },
  {
   "cell_type": "code",
   "execution_count": 38,
   "metadata": {},
   "outputs": [],
   "source": [
    "from openai import AzureOpenAI\n",
    "\n",
    "# endpoint = os.environ[\"AZURE_OPENAI_ENDPOINT\"]\n",
    "deployment = \"gpt-35-turbo\" \n",
    "\n",
    "tools = [\n",
    "    {\n",
    "        \"type\": \"function\",\n",
    "        \"function\": {\n",
    "            \"name\": \"berikan_penilaian\",\n",
    "            \"description\": \"Berika penilaian\",\n",
    "            \"parameters\": {\n",
    "                \"type\": \"object\",\n",
    "                \"properties\": {\n",
    "                    \"benar_salah\": {\n",
    "                        \"type\": \"boolean\",\n",
    "                        \"description\": \"Apakah jawaban pengguna benar atau salah\",\n",
    "                    },\n",
    "                    \"penjelasan\": {\n",
    "                        \"type\": \"string\",\n",
    "                        \"description\": \"Jelaskan jawaban yang benar\",\n",
    "                    },\n",
    "                },\n",
    "                \"required\": [\"benar_salah\", \"penjelasan\"],\n",
    "            },\n",
    "        },\n",
    "    }\n",
    "]\n",
    "\n",
    "client = AzureOpenAI(\n",
    "    api_version=\"2024-02-01\",\n",
    ")\n",
    "\n",
    "SYSTEM_PROMPT = '''\n",
    "Kamu adalah seorang guru yang saat ini sedang mengadakan ujian. Soal berupa pilihan ganda. \n",
    "Berikut adalah solanya:\n",
    "'''\n",
    "completion = client.chat.completions.create(\n",
    "    model=deployment,\n",
    "    messages=[\n",
    "        {\n",
    "            \"role\": \"system\",\n",
    "            \"content\": \"\"\"Kamu adalah seorang guru yang saat ini sedang mengadakan ujian. Soal berupa pilihan ganda. \n",
    "Berikut adalah solanya:\"\"\",\n",
    "        },\n",
    "        {\n",
    "            \"role\": \"system\",\n",
    "            \"content\": explanation,\n",
    "        },\n",
    "        {\n",
    "            \"role\": \"user\",\n",
    "            \"content\": answer\n",
    "        },\n",
    "        {\n",
    "            \"role\": \"assistant\",\n",
    "            \"content\": \"\"\"\n",
    "Berdasarkan jawaban pengguna di atas ini, berikan penilaian dalam format berikut:\n",
    "Jawaban: BENAR atau SALAH\n",
    "Penjelasan: Jelaskan jawaban yang benar\"\"\"\n",
    "        },\n",
    "    ],\n",
    "    tools=tools,\n",
    "    tool_choice={\"type\": \"function\", \"function\": {\"name\": \"berikan_penilaian\"}}\n",
    ")\n",
    "      \n",
    "# print(completion.to_json())"
   ]
  },
  {
   "cell_type": "code",
   "execution_count": 45,
   "metadata": {},
   "outputs": [
    {
     "data": {
      "text/plain": [
       "'berikan_penilaian'"
      ]
     },
     "execution_count": 45,
     "metadata": {},
     "output_type": "execute_result"
    }
   ],
   "source": [
    "completion.choices[0].message.tool_calls[0].function.name"
   ]
  },
  {
   "cell_type": "code",
   "execution_count": 47,
   "metadata": {},
   "outputs": [
    {
     "data": {
      "text/plain": [
       "{'benar_salah': True,\n",
       " 'penjelasan': 'Keliling persegi panjang dapat dihitung dengan menjumlahkan panjang semua sisinya. Pada gambar tersebut, sisi AB dan sisi CD memiliki panjang 24 cm, sedangkan sisi AC dan sisi BD memiliki panjang 7 cm. Jadi, kelilingnya adalah 2 × (24 cm + 7 cm) = 62 cm.'}"
      ]
     },
     "execution_count": 47,
     "metadata": {},
     "output_type": "execute_result"
    }
   ],
   "source": [
    "import json\n",
    "args = json.loads(completion.choices[0].message.tool_calls[0].function.arguments)\n",
    "args"
   ]
  },
  {
   "cell_type": "code",
   "execution_count": null,
   "metadata": {},
   "outputs": [],
   "source": [
    "is_correct = args['benar_salah']\n",
    "explanation = args['penjelasan']\n"
   ]
  }
 ],
 "metadata": {
  "kernelspec": {
   "display_name": "team-3",
   "language": "python",
   "name": "python3"
  },
  "language_info": {
   "codemirror_mode": {
    "name": "ipython",
    "version": 3
   },
   "file_extension": ".py",
   "mimetype": "text/x-python",
   "name": "python",
   "nbconvert_exporter": "python",
   "pygments_lexer": "ipython3",
   "version": "3.9.19"
  }
 },
 "nbformat": 4,
 "nbformat_minor": 2
}
