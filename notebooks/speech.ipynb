{
 "cells": [
  {
   "cell_type": "code",
   "execution_count": 5,
   "metadata": {},
   "outputs": [
    {
     "name": "stdout",
     "output_type": "stream",
     "text": [
      "ResultReason.Canceled\n"
     ]
    }
   ],
   "source": [
    "import time\n",
    "import azure.cognitiveservices.speech as speechsdk\n",
    "\n",
    "speech_key = \"\"\n",
    "service_region = \"southeastasia\"\n",
    "\n",
    "speech_config_male = speechsdk.SpeechConfig(\n",
    "    subscription=speech_key, \n",
    "    region=service_region,\n",
    ")\n",
    "# speech_config_male.speech_synthesis_voice_name = \"en-US-RyanMultilingualNeural\"\n",
    "\n",
    "speech_config = speechsdk.SpeechConfig(subscription=speech_key, region=service_region)\n",
    "# audio_config = speechsdk.AudioOutputConfig(use_default_speaker=True)\n",
    "\n",
    "timestr = time.strftime(\"%Y%m%d-%H%M%S\")\n",
    "audio_path = f\"outputs-speech-{timestr}.wav\"\n",
    "speech_synthesizer = speechsdk.SpeechSynthesizer(\n",
    "    speech_config=speech_config,\n",
    "    audio_config=None,\n",
    ")\n",
    "result = speech_synthesizer.speak_text_async(\"Halo, nama saya Fulan!\").get()\n",
    "if result.reason == speechsdk.ResultReason.SynthesizingAudioCompleted:\n",
    "    stream = speechsdk.AudioDataStream(result)\n",
    "    stream.save_to_wav_file(audio_path)\n",
    "\n",
    "print(result.reason)"
   ]
  },
  {
   "cell_type": "code",
   "execution_count": 4,
   "metadata": {},
   "outputs": [
    {
     "name": "stdout",
     "output_type": "stream",
     "text": [
      "SpeechSynthesisResult(result_id=7aca6425e6c4439094747de4e42b5274, reason=ResultReason.SynthesizingAudioCompleted, audio_length=64558)\n"
     ]
    }
   ],
   "source": [
    "print(result)"
   ]
  },
  {
   "cell_type": "code",
   "execution_count": 2,
   "metadata": {},
   "outputs": [
    {
     "name": "stdout",
     "output_type": "stream",
     "text": [
      "Info: on_underlying_io_bytes_received: Close frame received\n",
      "Info: on_underlying_io_bytes_received: closing underlying io.\n",
      "Info: on_underlying_io_close_complete: uws_state: 6.\n",
      "Speech synthesized for text [Kelilingnya adalah 62 centi meter]\n"
     ]
    },
    {
     "name": "stdout",
     "output_type": "stream",
     "text": [
      "Info: on_underlying_io_bytes_received: Close frame received\n",
      "Info: on_underlying_io_bytes_received: received close frame, sending a close response frame.\n",
      "Info: on_underlying_io_close_sent: uws_client=0x106485a20, io_send_result:0\n",
      "Info: on_underlying_io_close_sent: closing underlying io.\n",
      "Info: on_underlying_io_close_complete: uws_state: 6.\n"
     ]
    }
   ],
   "source": [
    "'''\n",
    "  For more samples please visit https://github.com/Azure-Samples/cognitive-services-speech-sdk \n",
    "'''\n",
    "\n",
    "import azure.cognitiveservices.speech as speechsdk\n",
    "\n",
    "# Creates an instance of a speech config with specified subscription key and service region.\n",
    "speech_key = \"232d072838de4797908c738708459c41\"\n",
    "service_region = \"southeastasia\"\n",
    "\n",
    "speech_config = speechsdk.SpeechConfig(subscription=speech_key, region=service_region)\n",
    "# Note: the voice setting will not overwrite the voice element in input SSML.\n",
    "speech_config.speech_synthesis_voice_name = \"id-ID-GadisNeural\"\n",
    "\n",
    "text = \"Kelilingnya adalah 62 centi meter\"\n",
    "\n",
    "# use the default speaker as audio output.\n",
    "speech_synthesizer = speechsdk.SpeechSynthesizer(speech_config=speech_config)\n",
    "\n",
    "result = speech_synthesizer.speak_text_async(text).get()\n",
    "# Check result\n",
    "if result.reason == speechsdk.ResultReason.SynthesizingAudioCompleted:\n",
    "    print(\"Speech synthesized for text [{}]\".format(text))\n",
    "elif result.reason == speechsdk.ResultReason.Canceled:\n",
    "    cancellation_details = result.cancellation_details\n",
    "    print(\"Speech synthesis canceled: {}\".format(cancellation_details.reason))\n",
    "    if cancellation_details.reason == speechsdk.CancellationReason.Error:\n",
    "        print(\"Error details: {}\".format(cancellation_details.error_details))"
   ]
  },
  {
   "cell_type": "code",
   "execution_count": 7,
   "metadata": {},
   "outputs": [],
   "source": [
    "\n",
    "timestr = time.strftime(\"%Y%m%d-%H%M%S\")\n",
    "audio_path = f\"outputs-speech-{timestr}.wav\"\n",
    "stream = speechsdk.AudioDataStream(result)\n",
    "stream.save_to_wav_file(audio_path)"
   ]
  },
  {
   "cell_type": "code",
   "execution_count": null,
   "metadata": {},
   "outputs": [],
   "source": []
  }
 ],
 "metadata": {
  "kernelspec": {
   "display_name": "open-ai",
   "language": "python",
   "name": "python3"
  },
  "language_info": {
   "codemirror_mode": {
    "name": "ipython",
    "version": 3
   },
   "file_extension": ".py",
   "mimetype": "text/x-python",
   "name": "python",
   "nbconvert_exporter": "python",
   "pygments_lexer": "ipython3",
   "version": "3.9.19"
  }
 },
 "nbformat": 4,
 "nbformat_minor": 2
}
